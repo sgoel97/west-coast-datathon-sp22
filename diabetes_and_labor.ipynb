{
 "cells": [
  {
   "cell_type": "code",
   "execution_count": 1,
   "id": "7c100e23",
   "metadata": {},
   "outputs": [],
   "source": [
    "import pandas as pd\n",
    "import numpy as np\n",
    "import matplotlib.pyplot as plt\n",
    "import seaborn as sns"
   ]
  },
  {
   "cell_type": "code",
   "execution_count": 7,
   "id": "18f5fb31",
   "metadata": {},
   "outputs": [
    {
     "data": {
      "text/html": [
       "<div>\n",
       "<style scoped>\n",
       "    .dataframe tbody tr th:only-of-type {\n",
       "        vertical-align: middle;\n",
       "    }\n",
       "\n",
       "    .dataframe tbody tr th {\n",
       "        vertical-align: top;\n",
       "    }\n",
       "\n",
       "    .dataframe thead th {\n",
       "        text-align: right;\n",
       "    }\n",
       "</style>\n",
       "<table border=\"1\" class=\"dataframe\">\n",
       "  <thead>\n",
       "    <tr style=\"text-align: right;\">\n",
       "      <th></th>\n",
       "      <th>URBRRL</th>\n",
       "      <th>RATCAT_A</th>\n",
       "      <th>INCGRP_A</th>\n",
       "      <th>INCTCFLG_A</th>\n",
       "      <th>FAMINCTC_A</th>\n",
       "      <th>IMPINCFLG_A</th>\n",
       "      <th>PPSU</th>\n",
       "      <th>PSTRAT</th>\n",
       "      <th>HISPALLP_A</th>\n",
       "      <th>RACEALLP_A</th>\n",
       "      <th>...</th>\n",
       "      <th>PROXYREL_A</th>\n",
       "      <th>PROXY_A</th>\n",
       "      <th>AVAIL_A</th>\n",
       "      <th>HHSTAT_A</th>\n",
       "      <th>INTV_QRT</th>\n",
       "      <th>RECTYPE</th>\n",
       "      <th>WTFA_A</th>\n",
       "      <th>WTIA_A</th>\n",
       "      <th>HHX</th>\n",
       "      <th>POVRATTC_A</th>\n",
       "    </tr>\n",
       "  </thead>\n",
       "  <tbody>\n",
       "    <tr>\n",
       "      <th>0</th>\n",
       "      <td>4</td>\n",
       "      <td>9</td>\n",
       "      <td>3</td>\n",
       "      <td>0</td>\n",
       "      <td>60000</td>\n",
       "      <td>2</td>\n",
       "      <td>2</td>\n",
       "      <td>122</td>\n",
       "      <td>3</td>\n",
       "      <td>2</td>\n",
       "      <td>...</td>\n",
       "      <td>NaN</td>\n",
       "      <td>NaN</td>\n",
       "      <td>1</td>\n",
       "      <td>1</td>\n",
       "      <td>1</td>\n",
       "      <td>10</td>\n",
       "      <td>13177.008</td>\n",
       "      <td>7601.336</td>\n",
       "      <td>H048109</td>\n",
       "      <td>2.96</td>\n",
       "    </tr>\n",
       "    <tr>\n",
       "      <th>1</th>\n",
       "      <td>4</td>\n",
       "      <td>9</td>\n",
       "      <td>3</td>\n",
       "      <td>0</td>\n",
       "      <td>50000</td>\n",
       "      <td>0</td>\n",
       "      <td>2</td>\n",
       "      <td>122</td>\n",
       "      <td>2</td>\n",
       "      <td>1</td>\n",
       "      <td>...</td>\n",
       "      <td>NaN</td>\n",
       "      <td>NaN</td>\n",
       "      <td>1</td>\n",
       "      <td>1</td>\n",
       "      <td>1</td>\n",
       "      <td>10</td>\n",
       "      <td>6140.552</td>\n",
       "      <td>3344.434</td>\n",
       "      <td>H027044</td>\n",
       "      <td>2.97</td>\n",
       "    </tr>\n",
       "    <tr>\n",
       "      <th>2</th>\n",
       "      <td>4</td>\n",
       "      <td>12</td>\n",
       "      <td>3</td>\n",
       "      <td>0</td>\n",
       "      <td>65000</td>\n",
       "      <td>1</td>\n",
       "      <td>2</td>\n",
       "      <td>122</td>\n",
       "      <td>2</td>\n",
       "      <td>1</td>\n",
       "      <td>...</td>\n",
       "      <td>NaN</td>\n",
       "      <td>NaN</td>\n",
       "      <td>1</td>\n",
       "      <td>1</td>\n",
       "      <td>1</td>\n",
       "      <td>10</td>\n",
       "      <td>9191.061</td>\n",
       "      <td>6949.498</td>\n",
       "      <td>H058855</td>\n",
       "      <td>4.28</td>\n",
       "    </tr>\n",
       "    <tr>\n",
       "      <th>3</th>\n",
       "      <td>4</td>\n",
       "      <td>14</td>\n",
       "      <td>5</td>\n",
       "      <td>0</td>\n",
       "      <td>120000</td>\n",
       "      <td>0</td>\n",
       "      <td>2</td>\n",
       "      <td>122</td>\n",
       "      <td>1</td>\n",
       "      <td>8</td>\n",
       "      <td>...</td>\n",
       "      <td>NaN</td>\n",
       "      <td>NaN</td>\n",
       "      <td>1</td>\n",
       "      <td>1</td>\n",
       "      <td>1</td>\n",
       "      <td>10</td>\n",
       "      <td>7900.035</td>\n",
       "      <td>6446.327</td>\n",
       "      <td>H031993</td>\n",
       "      <td>7.13</td>\n",
       "    </tr>\n",
       "    <tr>\n",
       "      <th>4</th>\n",
       "      <td>1</td>\n",
       "      <td>4</td>\n",
       "      <td>1</td>\n",
       "      <td>0</td>\n",
       "      <td>30000</td>\n",
       "      <td>0</td>\n",
       "      <td>2</td>\n",
       "      <td>115</td>\n",
       "      <td>2</td>\n",
       "      <td>1</td>\n",
       "      <td>...</td>\n",
       "      <td>NaN</td>\n",
       "      <td>NaN</td>\n",
       "      <td>1</td>\n",
       "      <td>1</td>\n",
       "      <td>1</td>\n",
       "      <td>10</td>\n",
       "      <td>10875.772</td>\n",
       "      <td>8646.586</td>\n",
       "      <td>H007122</td>\n",
       "      <td>1.13</td>\n",
       "    </tr>\n",
       "    <tr>\n",
       "      <th>...</th>\n",
       "      <td>...</td>\n",
       "      <td>...</td>\n",
       "      <td>...</td>\n",
       "      <td>...</td>\n",
       "      <td>...</td>\n",
       "      <td>...</td>\n",
       "      <td>...</td>\n",
       "      <td>...</td>\n",
       "      <td>...</td>\n",
       "      <td>...</td>\n",
       "      <td>...</td>\n",
       "      <td>...</td>\n",
       "      <td>...</td>\n",
       "      <td>...</td>\n",
       "      <td>...</td>\n",
       "      <td>...</td>\n",
       "      <td>...</td>\n",
       "      <td>...</td>\n",
       "      <td>...</td>\n",
       "      <td>...</td>\n",
       "      <td>...</td>\n",
       "    </tr>\n",
       "    <tr>\n",
       "      <th>31992</th>\n",
       "      <td>4</td>\n",
       "      <td>14</td>\n",
       "      <td>5</td>\n",
       "      <td>0</td>\n",
       "      <td>116204</td>\n",
       "      <td>0</td>\n",
       "      <td>100</td>\n",
       "      <td>114</td>\n",
       "      <td>2</td>\n",
       "      <td>1</td>\n",
       "      <td>...</td>\n",
       "      <td>NaN</td>\n",
       "      <td>NaN</td>\n",
       "      <td>1</td>\n",
       "      <td>1</td>\n",
       "      <td>4</td>\n",
       "      <td>10</td>\n",
       "      <td>2679.016</td>\n",
       "      <td>1965.416</td>\n",
       "      <td>H046022</td>\n",
       "      <td>7.65</td>\n",
       "    </tr>\n",
       "    <tr>\n",
       "      <th>31993</th>\n",
       "      <td>4</td>\n",
       "      <td>8</td>\n",
       "      <td>3</td>\n",
       "      <td>0</td>\n",
       "      <td>68000</td>\n",
       "      <td>0</td>\n",
       "      <td>100</td>\n",
       "      <td>114</td>\n",
       "      <td>2</td>\n",
       "      <td>1</td>\n",
       "      <td>...</td>\n",
       "      <td>NaN</td>\n",
       "      <td>NaN</td>\n",
       "      <td>1</td>\n",
       "      <td>1</td>\n",
       "      <td>4</td>\n",
       "      <td>10</td>\n",
       "      <td>6726.495</td>\n",
       "      <td>3920.208</td>\n",
       "      <td>H046232</td>\n",
       "      <td>2.02</td>\n",
       "    </tr>\n",
       "    <tr>\n",
       "      <th>31994</th>\n",
       "      <td>4</td>\n",
       "      <td>13</td>\n",
       "      <td>3</td>\n",
       "      <td>0</td>\n",
       "      <td>60000</td>\n",
       "      <td>0</td>\n",
       "      <td>100</td>\n",
       "      <td>114</td>\n",
       "      <td>2</td>\n",
       "      <td>1</td>\n",
       "      <td>...</td>\n",
       "      <td>NaN</td>\n",
       "      <td>NaN</td>\n",
       "      <td>1</td>\n",
       "      <td>1</td>\n",
       "      <td>4</td>\n",
       "      <td>10</td>\n",
       "      <td>1246.306</td>\n",
       "      <td>864.743</td>\n",
       "      <td>H043765</td>\n",
       "      <td>4.98</td>\n",
       "    </tr>\n",
       "    <tr>\n",
       "      <th>31995</th>\n",
       "      <td>4</td>\n",
       "      <td>14</td>\n",
       "      <td>5</td>\n",
       "      <td>0</td>\n",
       "      <td>101000</td>\n",
       "      <td>0</td>\n",
       "      <td>100</td>\n",
       "      <td>114</td>\n",
       "      <td>1</td>\n",
       "      <td>1</td>\n",
       "      <td>...</td>\n",
       "      <td>NaN</td>\n",
       "      <td>NaN</td>\n",
       "      <td>1</td>\n",
       "      <td>1</td>\n",
       "      <td>4</td>\n",
       "      <td>10</td>\n",
       "      <td>3427.198</td>\n",
       "      <td>2595.209</td>\n",
       "      <td>H017695</td>\n",
       "      <td>6.00</td>\n",
       "    </tr>\n",
       "    <tr>\n",
       "      <th>31996</th>\n",
       "      <td>4</td>\n",
       "      <td>13</td>\n",
       "      <td>4</td>\n",
       "      <td>0</td>\n",
       "      <td>79000</td>\n",
       "      <td>0</td>\n",
       "      <td>100</td>\n",
       "      <td>114</td>\n",
       "      <td>2</td>\n",
       "      <td>1</td>\n",
       "      <td>...</td>\n",
       "      <td>NaN</td>\n",
       "      <td>NaN</td>\n",
       "      <td>1</td>\n",
       "      <td>1</td>\n",
       "      <td>4</td>\n",
       "      <td>10</td>\n",
       "      <td>3453.332</td>\n",
       "      <td>1891.706</td>\n",
       "      <td>H026306</td>\n",
       "      <td>4.69</td>\n",
       "    </tr>\n",
       "  </tbody>\n",
       "</table>\n",
       "<p>31997 rows × 534 columns</p>\n",
       "</div>"
      ],
      "text/plain": [
       "       URBRRL  RATCAT_A  INCGRP_A  INCTCFLG_A  FAMINCTC_A  IMPINCFLG_A  PPSU  \\\n",
       "0           4         9         3           0       60000            2     2   \n",
       "1           4         9         3           0       50000            0     2   \n",
       "2           4        12         3           0       65000            1     2   \n",
       "3           4        14         5           0      120000            0     2   \n",
       "4           1         4         1           0       30000            0     2   \n",
       "...       ...       ...       ...         ...         ...          ...   ...   \n",
       "31992       4        14         5           0      116204            0   100   \n",
       "31993       4         8         3           0       68000            0   100   \n",
       "31994       4        13         3           0       60000            0   100   \n",
       "31995       4        14         5           0      101000            0   100   \n",
       "31996       4        13         4           0       79000            0   100   \n",
       "\n",
       "       PSTRAT  HISPALLP_A  RACEALLP_A  ...  PROXYREL_A  PROXY_A  AVAIL_A  \\\n",
       "0         122           3           2  ...         NaN      NaN        1   \n",
       "1         122           2           1  ...         NaN      NaN        1   \n",
       "2         122           2           1  ...         NaN      NaN        1   \n",
       "3         122           1           8  ...         NaN      NaN        1   \n",
       "4         115           2           1  ...         NaN      NaN        1   \n",
       "...       ...         ...         ...  ...         ...      ...      ...   \n",
       "31992     114           2           1  ...         NaN      NaN        1   \n",
       "31993     114           2           1  ...         NaN      NaN        1   \n",
       "31994     114           2           1  ...         NaN      NaN        1   \n",
       "31995     114           1           1  ...         NaN      NaN        1   \n",
       "31996     114           2           1  ...         NaN      NaN        1   \n",
       "\n",
       "       HHSTAT_A  INTV_QRT  RECTYPE     WTFA_A    WTIA_A      HHX  POVRATTC_A  \n",
       "0             1         1       10  13177.008  7601.336  H048109        2.96  \n",
       "1             1         1       10   6140.552  3344.434  H027044        2.97  \n",
       "2             1         1       10   9191.061  6949.498  H058855        4.28  \n",
       "3             1         1       10   7900.035  6446.327  H031993        7.13  \n",
       "4             1         1       10  10875.772  8646.586  H007122        1.13  \n",
       "...         ...       ...      ...        ...       ...      ...         ...  \n",
       "31992         1         4       10   2679.016  1965.416  H046022        7.65  \n",
       "31993         1         4       10   6726.495  3920.208  H046232        2.02  \n",
       "31994         1         4       10   1246.306   864.743  H043765        4.98  \n",
       "31995         1         4       10   3427.198  2595.209  H017695        6.00  \n",
       "31996         1         4       10   3453.332  1891.706  H026306        4.69  \n",
       "\n",
       "[31997 rows x 534 columns]"
      ]
     },
     "execution_count": 7,
     "metadata": {},
     "output_type": "execute_result"
    }
   ],
   "source": [
    "adult19 = pd.read_csv(\"./datathon_data/adult19.csv\")\n",
    "adult19"
   ]
  },
  {
   "cell_type": "code",
   "execution_count": 8,
   "id": "95ffdd3a",
   "metadata": {},
   "outputs": [],
   "source": [
    "diab_or_not = adult19.query(\"DIBEV_A == 2 or DIBTYPE_A == 1 or DIBTYPE_A == 2\")"
   ]
  },
  {
   "cell_type": "code",
   "execution_count": 9,
   "id": "4d8ac9d9",
   "metadata": {},
   "outputs": [
    {
     "name": "stderr",
     "output_type": "stream",
     "text": [
      "/var/folders/x1/k3ptxk310g7b4zbs2v_tgykh0000gn/T/ipykernel_37437/2455666195.py:1: SettingWithCopyWarning: \n",
      "A value is trying to be set on a copy of a slice from a DataFrame.\n",
      "Try using .loc[row_indexer,col_indexer] = value instead\n",
      "\n",
      "See the caveats in the documentation: https://pandas.pydata.org/pandas-docs/stable/user_guide/indexing.html#returning-a-view-versus-a-copy\n",
      "  diab_or_not['DIBTYPE_A'] = diab_or_not['DIBTYPE_A'].fillna(0)\n"
     ]
    }
   ],
   "source": [
    "diab_or_not['DIBTYPE_A'] = diab_or_not['DIBTYPE_A'].fillna(0)"
   ]
  },
  {
   "cell_type": "code",
   "execution_count": 60,
   "id": "1dbed041",
   "metadata": {},
   "outputs": [
    {
     "data": {
      "image/png": "[encoded data removed]",
      "text/plain": [
       "<Figure size 576x432 with 1 Axes>"
      ]
     },
     "metadata": {
      "needs_background": "light"
     },
     "output_type": "display_data"
    }
   ],
   "source": [
    "plt.figure(figsize=(8, 6))\n",
    "\n",
    "sns.barplot(data=diab_or_not, x=\"DIBTYPE_A\", y=\"FAMINCTC_A\")\n",
    "plt.xticks(ticks=[0,1,2], labels=['None','Type 1','Type 2'])\n",
    "plt.xlabel(\"Diabetes status of survey answerer\", fontsize=13, labelpad=14)\n",
    "plt.ylabel(\"Family Income\", fontsize=13, labelpad=14)\n",
    "plt.title(\"Family income vs diabetes\", pad=20, fontsize=18)\n",
    "\n",
    "plt.savefig('./test3.png')\n",
    "plt.show();"
   ]
  },
  {
   "cell_type": "code",
   "execution_count": 11,
   "id": "aeb1e4b8",
   "metadata": {},
   "outputs": [],
   "source": [
    "worked_or_not = diab_or_not.query(\"EMPWRKLSWK_A == 1 or EMPWRKLSWK_A == 2 and EDUC_A < 97\")\n",
    "worked_or_not = worked_or_not.query(\"HEIGHTTC_A < 95 and WEIGHTLBTC_A < 300 and FAMINCTC_A > 0 and AGEP_A < 97\")\n",
    "worked_or_not[\"EMPWRKLSWK_A\"] = 2 - worked_or_not[\"EMPWRKLSWK_A\"]"
   ]
  },
  {
   "cell_type": "code",
   "execution_count": 36,
   "id": "5ceb5d91",
   "metadata": {},
   "outputs": [
    {
     "data": {
      "image/png": "[encoded data removed]",
      "text/plain": [
       "<Figure size 576x432 with 1 Axes>"
      ]
     },
     "metadata": {
      "needs_background": "light"
     },
     "output_type": "display_data"
    }
   ],
   "source": [
    "plt.figure(figsize=(8, 6))\n",
    "\n",
    "sns.barplot(data=worked_or_not, x=\"DIBTYPE_A\", y=\"EMPWRKLSWK_A\")\n",
    "plt.xticks(ticks=[0,1,2], labels=['None','Type 1','Type 2'])\n",
    "plt.xlabel(\"Diabetes status\",fontsize=13, labelpad=14)\n",
    "plt.ylabel(\"Percent who worked last week\",fontsize=13, labelpad=14)\n",
    "plt.title(\"Work vs diabetes status\", pad=20, fontsize=18)\n",
    "\n",
    "plt.show();"
   ]
  },
  {
   "cell_type": "code",
   "execution_count": 37,
   "id": "0ae3a2f4",
   "metadata": {},
   "outputs": [],
   "source": [
    "worked_or_not[\"education\"] = np.zeros(len(worked_or_not))\n",
    "worked_or_not[\"education\"] += 12 * ((worked_or_not[\"EDUC_A\"] >= 3) & (worked_or_not[\"EDUC_A\"] <= 4)).astype(int)\n",
    "worked_or_not['education'] += 14 * ((worked_or_not[\"EDUC_A\"] >= 5) & (worked_or_not[\"EDUC_A\"] <= 7)).astype(int)\n",
    "worked_or_not['education'] += 16 * ((worked_or_not[\"EDUC_A\"] == 8)).astype(int)\n",
    "worked_or_not['education'] += 18 * ((worked_or_not[\"EDUC_A\"] >= 9) & (worked_or_not[\"EDUC_A\"] <= 10)).astype(int)\n",
    "worked_or_not['education'] += 22 * ((worked_or_not[\"EDUC_A\"] == 11)).astype(int)"
   ]
  },
  {
   "cell_type": "code",
   "execution_count": 39,
   "id": "270e30d5",
   "metadata": {},
   "outputs": [
    {
     "data": {
      "image/png": "[encoded data removed]",
      "text/plain": [
       "<Figure size 576x432 with 1 Axes>"
      ]
     },
     "metadata": {
      "needs_background": "light"
     },
     "output_type": "display_data"
    }
   ],
   "source": [
    "plt.figure(figsize=(8, 6))\n",
    "\n",
    "sns.barplot(x=worked_or_not[\"education\"], y=2-worked_or_not[\"DIBEV_A\"])\n",
    "plt.xticks(ticks=[0,1,2,3,4,5], labels=['No HS','HS','Some college', 'Bachelors', 'Masters', 'Doctoral'])\n",
    "plt.xlabel(\"Education\", labelpad=14,fontsize=13)\n",
    "plt.ylabel(\"Percent diabetic\", labelpad=14,fontsize=13)\n",
    "plt.title(\"Diabetes prevalence vs Education\", fontsize=18,pad=20)\n",
    "\n",
    "plt.show();"
   ]
  },
  {
   "cell_type": "code",
   "execution_count": 40,
   "id": "5c5582a1",
   "metadata": {},
   "outputs": [],
   "source": [
    "worked_or_not[\"education squared\"] = np.square(worked_or_not[\"education\"])"
   ]
  },
  {
   "cell_type": "code",
   "execution_count": 41,
   "id": "8b48c7e9",
   "metadata": {},
   "outputs": [],
   "source": [
    "import statsmodels.api as sm\n",
    "import statsmodels as sms\n",
    "from statsmodels.tools import add_constant"
   ]
  },
  {
   "cell_type": "code",
   "execution_count": 42,
   "id": "aad30c3c",
   "metadata": {},
   "outputs": [],
   "source": [
    "worked_or_not = worked_or_not.join(pd.get_dummies(worked_or_not['education']))"
   ]
  },
  {
   "cell_type": "code",
   "execution_count": 43,
   "id": "e2b007f4",
   "metadata": {},
   "outputs": [
    {
     "name": "stderr",
     "output_type": "stream",
     "text": [
      "/var/folders/x1/k3ptxk310g7b4zbs2v_tgykh0000gn/T/ipykernel_37437/435131604.py:1: PerformanceWarning: DataFrame is highly fragmented.  This is usually the result of calling `frame.insert` many times, which has poor performance.  Consider joining all columns at once using pd.concat(axis=1) instead.  To get a de-fragmented frame, use `newframe = frame.copy()`\n",
      "  worked_or_not['married'] = np.zeros(len(worked_or_not))\n"
     ]
    }
   ],
   "source": [
    "worked_or_not['married'] = np.zeros(len(worked_or_not))\n",
    "worked_or_not['married'] += 1 * ((worked_or_not['MARITAL_A'] == 1) | (worked_or_not['MARITAL_A'] == 2)).astype(int)"
   ]
  },
  {
   "cell_type": "code",
   "execution_count": 44,
   "id": "c275d4c9",
   "metadata": {},
   "outputs": [
    {
     "name": "stderr",
     "output_type": "stream",
     "text": [
      "/var/folders/x1/k3ptxk310g7b4zbs2v_tgykh0000gn/T/ipykernel_37437/1425203440.py:1: PerformanceWarning: DataFrame is highly fragmented.  This is usually the result of calling `frame.insert` many times, which has poor performance.  Consider joining all columns at once using pd.concat(axis=1) instead.  To get a de-fragmented frame, use `newframe = frame.copy()`\n",
      "  worked_or_not['bmi'] = worked_or_not['WEIGHTLBTC_A'] / np.square(worked_or_not['HEIGHTTC_A'])\n"
     ]
    }
   ],
   "source": [
    "worked_or_not['bmi'] = worked_or_not['WEIGHTLBTC_A'] / np.square(worked_or_not['HEIGHTTC_A'])"
   ]
  },
  {
   "cell_type": "code",
   "execution_count": 45,
   "id": "994ea372",
   "metadata": {},
   "outputs": [
    {
     "name": "stderr",
     "output_type": "stream",
     "text": [
      "/var/folders/x1/k3ptxk310g7b4zbs2v_tgykh0000gn/T/ipykernel_37437/1454930030.py:1: PerformanceWarning: DataFrame is highly fragmented.  This is usually the result of calling `frame.insert` many times, which has poor performance.  Consider joining all columns at once using pd.concat(axis=1) instead.  To get a de-fragmented frame, use `newframe = frame.copy()`\n",
      "  worked_or_not['bmi squared'] = np.square(worked_or_not['bmi'])\n"
     ]
    }
   ],
   "source": [
    "worked_or_not['bmi squared'] = np.square(worked_or_not['bmi'])"
   ]
  },
  {
   "cell_type": "code",
   "execution_count": 46,
   "id": "e4e7e1db",
   "metadata": {},
   "outputs": [
    {
     "name": "stderr",
     "output_type": "stream",
     "text": [
      "/var/folders/x1/k3ptxk310g7b4zbs2v_tgykh0000gn/T/ipykernel_37437/2037960763.py:1: PerformanceWarning: DataFrame is highly fragmented.  This is usually the result of calling `frame.insert` many times, which has poor performance.  Consider joining all columns at once using pd.concat(axis=1) instead.  To get a de-fragmented frame, use `newframe = frame.copy()`\n",
      "  worked_or_not['type1'] = (worked_or_not['DIBTYPE_A'] == 1).astype(int)\n"
     ]
    }
   ],
   "source": [
    "worked_or_not['type1'] = (worked_or_not['DIBTYPE_A'] == 1).astype(int)"
   ]
  },
  {
   "cell_type": "code",
   "execution_count": 47,
   "id": "44133fd0",
   "metadata": {},
   "outputs": [
    {
     "name": "stderr",
     "output_type": "stream",
     "text": [
      "/var/folders/x1/k3ptxk310g7b4zbs2v_tgykh0000gn/T/ipykernel_37437/1282328217.py:1: PerformanceWarning: DataFrame is highly fragmented.  This is usually the result of calling `frame.insert` many times, which has poor performance.  Consider joining all columns at once using pd.concat(axis=1) instead.  To get a de-fragmented frame, use `newframe = frame.copy()`\n",
      "  worked_or_not['type2'] = (worked_or_not['DIBTYPE_A'] == 2).astype(int)\n"
     ]
    }
   ],
   "source": [
    "worked_or_not['type2'] = (worked_or_not['DIBTYPE_A'] == 2).astype(int)"
   ]
  },
  {
   "cell_type": "code",
   "execution_count": 48,
   "id": "83558d81",
   "metadata": {},
   "outputs": [
    {
     "name": "stderr",
     "output_type": "stream",
     "text": [
      "/var/folders/x1/k3ptxk310g7b4zbs2v_tgykh0000gn/T/ipykernel_37437/2728148591.py:1: PerformanceWarning: DataFrame is highly fragmented.  This is usually the result of calling `frame.insert` many times, which has poor performance.  Consider joining all columns at once using pd.concat(axis=1) instead.  To get a de-fragmented frame, use `newframe = frame.copy()`\n",
      "  worked_or_not['age squared'] = np.square(worked_or_not['AGEP_A'])\n",
      "/var/folders/x1/k3ptxk310g7b4zbs2v_tgykh0000gn/T/ipykernel_37437/2728148591.py:2: PerformanceWarning: DataFrame is highly fragmented.  This is usually the result of calling `frame.insert` many times, which has poor performance.  Consider joining all columns at once using pd.concat(axis=1) instead.  To get a de-fragmented frame, use `newframe = frame.copy()`\n",
      "  worked_or_not['age'] = worked_or_not[\"AGEP_A\"]\n"
     ]
    }
   ],
   "source": [
    "worked_or_not['age squared'] = np.square(worked_or_not['AGEP_A'])\n",
    "worked_or_not['age'] = worked_or_not[\"AGEP_A\"]"
   ]
  },
  {
   "cell_type": "code",
   "execution_count": 49,
   "id": "fdebcb2a",
   "metadata": {},
   "outputs": [
    {
     "name": "stderr",
     "output_type": "stream",
     "text": [
      "/var/folders/x1/k3ptxk310g7b4zbs2v_tgykh0000gn/T/ipykernel_37437/2921491907.py:1: PerformanceWarning: DataFrame is highly fragmented.  This is usually the result of calling `frame.insert` many times, which has poor performance.  Consider joining all columns at once using pd.concat(axis=1) instead.  To get a de-fragmented frame, use `newframe = frame.copy()`\n",
      "  worked_or_not['log family income'] = np.log(worked_or_not['FAMINCTC_A'])\n",
      "/var/folders/x1/k3ptxk310g7b4zbs2v_tgykh0000gn/T/ipykernel_37437/2921491907.py:2: PerformanceWarning: DataFrame is highly fragmented.  This is usually the result of calling `frame.insert` many times, which has poor performance.  Consider joining all columns at once using pd.concat(axis=1) instead.  To get a de-fragmented frame, use `newframe = frame.copy()`\n",
      "  worked_or_not['worked last week'] = worked_or_not['EMPWRKLSWK_A']\n"
     ]
    }
   ],
   "source": [
    "worked_or_not['log family income'] = np.log(worked_or_not['FAMINCTC_A'])\n",
    "worked_or_not['worked last week'] = worked_or_not['EMPWRKLSWK_A']"
   ]
  },
  {
   "cell_type": "code",
   "execution_count": 50,
   "id": "2902c079",
   "metadata": {},
   "outputs": [
    {
     "name": "stderr",
     "output_type": "stream",
     "text": [
      "/var/folders/x1/k3ptxk310g7b4zbs2v_tgykh0000gn/T/ipykernel_37437/1093977519.py:1: PerformanceWarning: DataFrame is highly fragmented.  This is usually the result of calling `frame.insert` many times, which has poor performance.  Consider joining all columns at once using pd.concat(axis=1) instead.  To get a de-fragmented frame, use `newframe = frame.copy()`\n",
      "  worked_or_not['minority'] = (worked_or_not['HISPALLP_A'] != 2).astype(int)\n"
     ]
    }
   ],
   "source": [
    "worked_or_not['minority'] = (worked_or_not['HISPALLP_A'] != 2).astype(int)"
   ]
  },
  {
   "cell_type": "code",
   "execution_count": 51,
   "id": "96431bcc",
   "metadata": {},
   "outputs": [
    {
     "name": "stderr",
     "output_type": "stream",
     "text": [
      "/var/folders/x1/k3ptxk310g7b4zbs2v_tgykh0000gn/T/ipykernel_37437/1341525047.py:1: PerformanceWarning: DataFrame is highly fragmented.  This is usually the result of calling `frame.insert` many times, which has poor performance.  Consider joining all columns at once using pd.concat(axis=1) instead.  To get a de-fragmented frame, use `newframe = frame.copy()`\n",
      "  worked_or_not['female'] = (worked_or_not['SEX_A'] == 2).astype(int)\n"
     ]
    }
   ],
   "source": [
    "worked_or_not['female'] = (worked_or_not['SEX_A'] == 2).astype(int)"
   ]
  },
  {
   "cell_type": "code",
   "execution_count": 52,
   "id": "b8c63b44",
   "metadata": {},
   "outputs": [
    {
     "name": "stderr",
     "output_type": "stream",
     "text": [
      "/var/folders/x1/k3ptxk310g7b4zbs2v_tgykh0000gn/T/ipykernel_37437/98226934.py:1: PerformanceWarning: DataFrame is highly fragmented.  This is usually the result of calling `frame.insert` many times, which has poor performance.  Consider joining all columns at once using pd.concat(axis=1) instead.  To get a de-fragmented frame, use `newframe = frame.copy()`\n",
      "  worked_or_not['diabetic'] = np.zeros(len(worked_or_not))\n"
     ]
    }
   ],
   "source": [
    "worked_or_not['diabetic'] = np.zeros(len(worked_or_not))\n",
    "worked_or_not['diabetic'] += 1 * ((worked_or_not['DIBTYPE_A'] == 1) | (worked_or_not['DIBTYPE_A'] == 2)).astype(int)"
   ]
  },
  {
   "cell_type": "code",
   "execution_count": 53,
   "id": "bf39d04e",
   "metadata": {},
   "outputs": [
    {
     "name": "stdout",
     "output_type": "stream",
     "text": [
      "                            OLS Regression Results                            \n",
      "==============================================================================\n",
      "Dep. Variable:      log family income   R-squared:                       0.308\n",
      "Model:                            OLS   Adj. R-squared:                  0.307\n",
      "Method:                 Least Squares   F-statistic:                     888.3\n",
      "Date:                Sat, 09 Apr 2022   Prob (F-statistic):               0.00\n",
      "Time:                        15:07:50   Log-Likelihood:                -32642.\n",
      "No. Observations:               28010   AIC:                         6.531e+04\n",
      "Df Residuals:                   27995   BIC:                         6.544e+04\n",
      "Df Model:                          14                                         \n",
      "Covariance Type:            nonrobust                                         \n",
      "===============================================================================\n",
      "                  coef    std err          t      P>|t|      [0.025      0.975]\n",
      "-------------------------------------------------------------------------------\n",
      "const          10.8292      0.110     98.464      0.000      10.614      11.045\n",
      "age             0.0170      0.002     10.796      0.000       0.014       0.020\n",
      "age squared    -0.0002    1.5e-05    -13.516      0.000      -0.000      -0.000\n",
      "0.0            -1.1745      0.036    -32.841      0.000      -1.245      -1.104\n",
      "12.0           -0.8225      0.033    -24.742      0.000      -0.888      -0.757\n",
      "14.0           -0.6377      0.033    -19.288      0.000      -0.702      -0.573\n",
      "16.0           -0.3148      0.033     -9.440      0.000      -0.380      -0.249\n",
      "18.0           -0.1112      0.035     -3.220      0.001      -0.179      -0.043\n",
      "married         0.6062      0.010     62.684      0.000       0.587       0.625\n",
      "diabetic       -0.1415      0.018     -8.080      0.000      -0.176      -0.107\n",
      "type1           0.0152      0.052      0.294      0.769      -0.086       0.116\n",
      "bmi            13.1941      4.883      2.702      0.007       3.624      22.764\n",
      "bmi squared  -209.9795     56.981     -3.685      0.000    -321.666     -98.293\n",
      "female         -0.1151      0.010    -12.104      0.000      -0.134      -0.096\n",
      "minority       -0.1958      0.011    -18.640      0.000      -0.216      -0.175\n",
      "==============================================================================\n",
      "Omnibus:                    17133.700   Durbin-Watson:                   1.820\n",
      "Prob(Omnibus):                  0.000   Jarque-Bera (JB):           662502.506\n",
      "Skew:                          -2.356   Prob(JB):                         0.00\n",
      "Kurtosis:                      26.355   Cond. No.                     4.44e+07\n",
      "==============================================================================\n",
      "\n",
      "Notes:\n",
      "[1] Standard Errors assume that the covariance matrix of the errors is correctly specified.\n",
      "[2] The condition number is large, 4.44e+07. This might indicate that there are\n",
      "strong multicollinearity or other numerical problems.\n"
     ]
    },
    {
     "name": "stderr",
     "output_type": "stream",
     "text": [
      "/opt/anaconda3/lib/python3.9/site-packages/statsmodels/tsa/tsatools.py:142: FutureWarning: In a future version of pandas all arguments of concat except for the argument 'objs' will be keyword-only\n",
      "  x = pd.concat(x[::order], 1)\n"
     ]
    }
   ],
   "source": [
    "reg = sm.OLS(exog=add_constant(worked_or_not[['age', 'age squared', 0,12,14,16,18, 'married', 'diabetic', 'type1', 'bmi', 'bmi squared', 'female', 'minority']]), endog=worked_or_not['log family income']).fit()\n",
    "print(reg.summary())"
   ]
  },
  {
   "cell_type": "code",
   "execution_count": 54,
   "id": "5cc8ccbf",
   "metadata": {},
   "outputs": [
    {
     "name": "stdout",
     "output_type": "stream",
     "text": [
      "                            OLS Regression Results                            \n",
      "==============================================================================\n",
      "Dep. Variable:      log family income   R-squared:                       0.306\n",
      "Model:                            OLS   Adj. R-squared:                  0.306\n",
      "Method:                 Least Squares   F-statistic:                     949.4\n",
      "Date:                Sat, 09 Apr 2022   Prob (F-statistic):               0.00\n",
      "Time:                        15:07:50   Log-Likelihood:                -32675.\n",
      "No. Observations:               28010   AIC:                         6.538e+04\n",
      "Df Residuals:                   27996   BIC:                         6.549e+04\n",
      "Df Model:                          13                                         \n",
      "Covariance Type:            nonrobust                                         \n",
      "===============================================================================\n",
      "                  coef    std err          t      P>|t|      [0.025      0.975]\n",
      "-------------------------------------------------------------------------------\n",
      "const          10.8578      0.110     98.663      0.000      10.642      11.074\n",
      "age             0.0167      0.002     10.585      0.000       0.014       0.020\n",
      "age squared    -0.0002    1.5e-05    -13.612      0.000      -0.000      -0.000\n",
      "0.0            -1.1807      0.036    -32.983      0.000      -1.251      -1.111\n",
      "12.0           -0.8243      0.033    -24.767      0.000      -0.890      -0.759\n",
      "14.0           -0.6398      0.033    -19.330      0.000      -0.705      -0.575\n",
      "16.0           -0.3140      0.033     -9.403      0.000      -0.379      -0.249\n",
      "18.0           -0.1097      0.035     -3.173      0.002      -0.177      -0.042\n",
      "married         0.6078      0.010     62.786      0.000       0.589       0.627\n",
      "type1          -0.1103      0.049     -2.241      0.025      -0.207      -0.014\n",
      "bmi            13.0868      4.888      2.677      0.007       3.506      22.668\n",
      "bmi squared  -218.5304     57.037     -3.831      0.000    -330.326    -106.735\n",
      "female         -0.1131      0.010    -11.890      0.000      -0.132      -0.094\n",
      "minority       -0.2007      0.010    -19.117      0.000      -0.221      -0.180\n",
      "==============================================================================\n",
      "Omnibus:                    17117.835   Durbin-Watson:                   1.819\n",
      "Prob(Omnibus):                  0.000   Jarque-Bera (JB):           658195.192\n",
      "Skew:                          -2.355   Prob(JB):                         0.00\n",
      "Kurtosis:                      26.276   Cond. No.                     4.44e+07\n",
      "==============================================================================\n",
      "\n",
      "Notes:\n",
      "[1] Standard Errors assume that the covariance matrix of the errors is correctly specified.\n",
      "[2] The condition number is large, 4.44e+07. This might indicate that there are\n",
      "strong multicollinearity or other numerical problems.\n"
     ]
    },
    {
     "name": "stderr",
     "output_type": "stream",
     "text": [
      "/opt/anaconda3/lib/python3.9/site-packages/statsmodels/tsa/tsatools.py:142: FutureWarning: In a future version of pandas all arguments of concat except for the argument 'objs' will be keyword-only\n",
      "  x = pd.concat(x[::order], 1)\n"
     ]
    }
   ],
   "source": [
    "reg = sm.OLS(exog=add_constant(worked_or_not[['age', 'age squared', 0,12,14,16,18, 'married', 'type1', 'bmi', 'bmi squared', 'female', 'minority']]), endog=worked_or_not['log family income']).fit()\n",
    "print(reg.summary())"
   ]
  },
  {
   "cell_type": "code",
   "execution_count": 25,
   "id": "cf6e44c1",
   "metadata": {},
   "outputs": [
    {
     "name": "stdout",
     "output_type": "stream",
     "text": [
      "                            OLS Regression Results                            \n",
      "==============================================================================\n",
      "Dep. Variable:      log family income   R-squared:                       0.307\n",
      "Model:                            OLS   Adj. R-squared:                  0.307\n",
      "Method:                 Least Squares   F-statistic:                     955.9\n",
      "Date:                Sat, 09 Apr 2022   Prob (F-statistic):               0.00\n",
      "Time:                        14:48:47   Log-Likelihood:                -32645.\n",
      "No. Observations:               28010   AIC:                         6.532e+04\n",
      "Df Residuals:                   27996   BIC:                         6.543e+04\n",
      "Df Model:                          13                                         \n",
      "Covariance Type:            nonrobust                                         \n",
      "===============================================================================\n",
      "                  coef    std err          t      P>|t|      [0.025      0.975]\n",
      "-------------------------------------------------------------------------------\n",
      "const          10.8289      0.110     98.452      0.000      10.613      11.044\n",
      "age             0.0170      0.002     10.757      0.000       0.014       0.020\n",
      "age squared    -0.0002    1.5e-05    -13.491      0.000      -0.000      -0.000\n",
      "0.0            -1.1754      0.036    -32.864      0.000      -1.246      -1.105\n",
      "12.0           -0.8229      0.033    -24.749      0.000      -0.888      -0.758\n",
      "14.0           -0.6377      0.033    -19.287      0.000      -0.703      -0.573\n",
      "16.0           -0.3147      0.033     -9.435      0.000      -0.380      -0.249\n",
      "18.0           -0.1109      0.035     -3.213      0.001      -0.179      -0.043\n",
      "married         0.6064      0.010     62.694      0.000       0.587       0.625\n",
      "type2          -0.1397      0.017     -7.982      0.000      -0.174      -0.105\n",
      "bmi            13.2694      4.883      2.717      0.007       3.698      22.840\n",
      "bmi squared  -211.0534     56.986     -3.704      0.000    -322.748     -99.359\n",
      "female         -0.1149      0.010    -12.087      0.000      -0.134      -0.096\n",
      "minority       -0.1961      0.011    -18.673      0.000      -0.217      -0.176\n",
      "==============================================================================\n",
      "Omnibus:                    17127.126   Durbin-Watson:                   1.819\n",
      "Prob(Omnibus):                  0.000   Jarque-Bera (JB):           661409.475\n",
      "Skew:                          -2.356   Prob(JB):                         0.00\n",
      "Kurtosis:                      26.335   Cond. No.                     4.44e+07\n",
      "==============================================================================\n",
      "\n",
      "Notes:\n",
      "[1] Standard Errors assume that the covariance matrix of the errors is correctly specified.\n",
      "[2] The condition number is large, 4.44e+07. This might indicate that there are\n",
      "strong multicollinearity or other numerical problems.\n"
     ]
    },
    {
     "name": "stderr",
     "output_type": "stream",
     "text": [
      "/opt/conda/lib/python3.9/site-packages/statsmodels/tsa/tsatools.py:142: FutureWarning: In a future version of pandas all arguments of concat except for the argument 'objs' will be keyword-only\n",
      "  x = pd.concat(x[::order], 1)\n"
     ]
    }
   ],
   "source": [
    "reg = sm.OLS(exog=add_constant(worked_or_not[['age', 'age squared', 0,12,14,16,18, 'married', 'type2', 'bmi', 'bmi squared', 'female', 'minority']]), endog=worked_or_not['log family income']).fit()\n",
    "print(reg.summary())"
   ]
  },
  {
   "cell_type": "code",
   "execution_count": null,
   "id": "55018979",
   "metadata": {},
   "outputs": [],
   "source": []
  },
  {
   "cell_type": "code",
   "execution_count": null,
   "id": "886d5a39",
   "metadata": {},
   "outputs": [],
   "source": []
  },
  {
   "cell_type": "code",
   "execution_count": null,
   "id": "ca71a859",
   "metadata": {},
   "outputs": [],
   "source": []
  },
  {
   "cell_type": "code",
   "execution_count": null,
   "id": "f6c763bf",
   "metadata": {},
   "outputs": [],
   "source": []
  },
  {
   "cell_type": "code",
   "execution_count": 26,
   "id": "5d182df5",
   "metadata": {},
   "outputs": [
    {
     "name": "stderr",
     "output_type": "stream",
     "text": [
      "/opt/conda/lib/python3.9/site-packages/statsmodels/tsa/tsatools.py:142: FutureWarning: In a future version of pandas all arguments of concat except for the argument 'objs' will be keyword-only\n",
      "  x = pd.concat(x[::order], 1)\n"
     ]
    },
    {
     "name": "stdout",
     "output_type": "stream",
     "text": [
      "                            OLS Regression Results                            \n",
      "==============================================================================\n",
      "Dep. Variable:       worked last week   R-squared:                       0.354\n",
      "Model:                            OLS   Adj. R-squared:                  0.353\n",
      "Method:                 Least Squares   F-statistic:                     1178.\n",
      "Date:                Sat, 09 Apr 2022   Prob (F-statistic):               0.00\n",
      "Time:                        14:48:47   Log-Likelihood:                -13483.\n",
      "No. Observations:               28010   AIC:                         2.699e+04\n",
      "Df Residuals:                   27996   BIC:                         2.711e+04\n",
      "Df Model:                          13                                         \n",
      "Covariance Type:            nonrobust                                         \n",
      "===============================================================================\n",
      "                  coef    std err          t      P>|t|      [0.025      0.975]\n",
      "-------------------------------------------------------------------------------\n",
      "const           0.2228      0.055      4.015      0.000       0.114       0.332\n",
      "age             0.0263      0.001     33.033      0.000       0.025       0.028\n",
      "age squared    -0.0004   7.57e-06    -49.865      0.000      -0.000      -0.000\n",
      "0.0            -0.2584      0.018    -14.319      0.000      -0.294      -0.223\n",
      "12.0           -0.1838      0.017    -10.955      0.000      -0.217      -0.151\n",
      "14.0           -0.1540      0.017     -9.230      0.000      -0.187      -0.121\n",
      "16.0           -0.1002      0.017     -5.956      0.000      -0.133      -0.067\n",
      "18.0           -0.0723      0.017     -4.148      0.000      -0.106      -0.038\n",
      "married         0.0082      0.005      1.683      0.092      -0.001       0.018\n",
      "diabetic       -0.1063      0.008    -12.611      0.000      -0.123      -0.090\n",
      "bmi            17.3844      2.464      7.056      0.000      12.556      22.213\n",
      "bmi squared  -196.9983     28.752     -6.852      0.000    -253.353    -140.644\n",
      "female         -0.0825      0.005    -17.203      0.000      -0.092      -0.073\n",
      "minority       -0.0137      0.005     -2.580      0.010      -0.024      -0.003\n",
      "==============================================================================\n",
      "Omnibus:                     1712.833   Durbin-Watson:                   1.978\n",
      "Prob(Omnibus):                  0.000   Jarque-Bera (JB):             1921.644\n",
      "Skew:                          -0.620   Prob(JB):                         0.00\n",
      "Kurtosis:                       2.670   Cond. No.                     4.44e+07\n",
      "==============================================================================\n",
      "\n",
      "Notes:\n",
      "[1] Standard Errors assume that the covariance matrix of the errors is correctly specified.\n",
      "[2] The condition number is large, 4.44e+07. This might indicate that there are\n",
      "strong multicollinearity or other numerical problems.\n"
     ]
    }
   ],
   "source": [
    "reg2 = sm.OLS(exog=add_constant(worked_or_not[['age', 'age squared', 0,12,14,16,18, 'married', 'diabetic', 'bmi', 'bmi squared', 'female', 'minority']]), endog=worked_or_not['worked last week']).fit()\n",
    "print(reg2.summary())"
   ]
  },
  {
   "cell_type": "code",
   "execution_count": 27,
   "id": "d1279b87",
   "metadata": {},
   "outputs": [
    {
     "name": "stderr",
     "output_type": "stream",
     "text": [
      "/opt/conda/lib/python3.9/site-packages/statsmodels/tsa/tsatools.py:142: FutureWarning: In a future version of pandas all arguments of concat except for the argument 'objs' will be keyword-only\n",
      "  x = pd.concat(x[::order], 1)\n"
     ]
    },
    {
     "name": "stdout",
     "output_type": "stream",
     "text": [
      "                            OLS Regression Results                            \n",
      "==============================================================================\n",
      "Dep. Variable:       worked last week   R-squared:                       0.351\n",
      "Model:                            OLS   Adj. R-squared:                  0.350\n",
      "Method:                 Least Squares   F-statistic:                     1163.\n",
      "Date:                Sat, 09 Apr 2022   Prob (F-statistic):               0.00\n",
      "Time:                        14:48:47   Log-Likelihood:                -13548.\n",
      "No. Observations:               28010   AIC:                         2.712e+04\n",
      "Df Residuals:                   27996   BIC:                         2.724e+04\n",
      "Df Model:                          13                                         \n",
      "Covariance Type:            nonrobust                                         \n",
      "===============================================================================\n",
      "                  coef    std err          t      P>|t|      [0.025      0.975]\n",
      "-------------------------------------------------------------------------------\n",
      "const           0.2445      0.056      4.398      0.000       0.136       0.353\n",
      "age             0.0261      0.001     32.688      0.000       0.025       0.028\n",
      "age squared    -0.0004   7.59e-06    -49.929      0.000      -0.000      -0.000\n",
      "0.0            -0.2628      0.018    -14.531      0.000      -0.298      -0.227\n",
      "12.0           -0.1850      0.017    -11.002      0.000      -0.218      -0.152\n",
      "14.0           -0.1555      0.017     -9.303      0.000      -0.188      -0.123\n",
      "16.0           -0.0996      0.017     -5.906      0.000      -0.133      -0.067\n",
      "18.0           -0.0712      0.017     -4.078      0.000      -0.105      -0.037\n",
      "married         0.0093      0.005      1.911      0.056      -0.000       0.019\n",
      "type1          -0.1330      0.025     -5.350      0.000      -0.182      -0.084\n",
      "bmi            17.2803      2.469      6.998      0.000      12.440      22.120\n",
      "bmi squared  -203.1233     28.813     -7.050      0.000    -259.599    -146.648\n",
      "female         -0.0811      0.005    -16.873      0.000      -0.091      -0.072\n",
      "minority       -0.0173      0.005     -3.255      0.001      -0.028      -0.007\n",
      "==============================================================================\n",
      "Omnibus:                     1731.742   Durbin-Watson:                   1.974\n",
      "Prob(Omnibus):                  0.000   Jarque-Bera (JB):             1925.307\n",
      "Skew:                          -0.618   Prob(JB):                         0.00\n",
      "Kurtosis:                       2.650   Cond. No.                     4.44e+07\n",
      "==============================================================================\n",
      "\n",
      "Notes:\n",
      "[1] Standard Errors assume that the covariance matrix of the errors is correctly specified.\n",
      "[2] The condition number is large, 4.44e+07. This might indicate that there are\n",
      "strong multicollinearity or other numerical problems.\n"
     ]
    }
   ],
   "source": [
    "reg2 = sm.OLS(exog=add_constant(worked_or_not[['age', 'age squared', 0,12,14,16,18, 'married', 'type1', 'bmi', 'bmi squared', 'female', 'minority']]), endog=worked_or_not['worked last week']).fit()\n",
    "print(reg2.summary())"
   ]
  },
  {
   "cell_type": "code",
   "execution_count": 28,
   "id": "f3baaae4",
   "metadata": {},
   "outputs": [
    {
     "name": "stderr",
     "output_type": "stream",
     "text": [
      "/opt/conda/lib/python3.9/site-packages/statsmodels/tsa/tsatools.py:142: FutureWarning: In a future version of pandas all arguments of concat except for the argument 'objs' will be keyword-only\n",
      "  x = pd.concat(x[::order], 1)\n"
     ]
    },
    {
     "name": "stdout",
     "output_type": "stream",
     "text": [
      "                            OLS Regression Results                            \n",
      "==============================================================================\n",
      "Dep. Variable:       worked last week   R-squared:                       0.353\n",
      "Model:                            OLS   Adj. R-squared:                  0.353\n",
      "Method:                 Least Squares   F-statistic:                     1175.\n",
      "Date:                Sat, 09 Apr 2022   Prob (F-statistic):               0.00\n",
      "Time:                        14:48:47   Log-Likelihood:                -13498.\n",
      "No. Observations:               28010   AIC:                         2.702e+04\n",
      "Df Residuals:                   27996   BIC:                         2.714e+04\n",
      "Df Model:                          13                                         \n",
      "Covariance Type:            nonrobust                                         \n",
      "===============================================================================\n",
      "                  coef    std err          t      P>|t|      [0.025      0.975]\n",
      "-------------------------------------------------------------------------------\n",
      "const           0.2236      0.056      4.026      0.000       0.115       0.332\n",
      "age             0.0263      0.001     32.939      0.000       0.025       0.028\n",
      "age squared    -0.0004   7.57e-06    -49.803      0.000      -0.000      -0.000\n",
      "0.0            -0.2594      0.018    -14.365      0.000      -0.295      -0.224\n",
      "12.0           -0.1841      0.017    -10.969      0.000      -0.217      -0.151\n",
      "14.0           -0.1541      0.017     -9.230      0.000      -0.187      -0.121\n",
      "16.0           -0.1001      0.017     -5.945      0.000      -0.133      -0.067\n",
      "18.0           -0.0720      0.017     -4.131      0.000      -0.106      -0.038\n",
      "married         0.0084      0.005      1.718      0.086      -0.001       0.018\n",
      "type2          -0.0998      0.009    -11.299      0.000      -0.117      -0.082\n",
      "bmi            17.4437      2.465      7.077      0.000      12.612      22.275\n",
      "bmi squared  -198.1944     28.767     -6.890      0.000    -254.579    -141.810\n",
      "female         -0.0823      0.005    -17.155      0.000      -0.092      -0.073\n",
      "minority       -0.0141      0.005     -2.666      0.008      -0.025      -0.004\n",
      "==============================================================================\n",
      "Omnibus:                     1717.627   Durbin-Watson:                   1.978\n",
      "Prob(Omnibus):                  0.000   Jarque-Bera (JB):             1925.218\n",
      "Skew:                          -0.620   Prob(JB):                         0.00\n",
      "Kurtosis:                       2.667   Cond. No.                     4.44e+07\n",
      "==============================================================================\n",
      "\n",
      "Notes:\n",
      "[1] Standard Errors assume that the covariance matrix of the errors is correctly specified.\n",
      "[2] The condition number is large, 4.44e+07. This might indicate that there are\n",
      "strong multicollinearity or other numerical problems.\n"
     ]
    }
   ],
   "source": [
    "reg2 = sm.OLS(exog=add_constant(worked_or_not[['age', 'age squared', 0,12,14,16,18, 'married', 'type2', 'bmi', 'bmi squared', 'female', 'minority']]), endog=worked_or_not['worked last week']).fit()\n",
    "print(reg2.summary())"
   ]
  },
  {
   "cell_type": "code",
   "execution_count": null,
   "id": "d4bab34d",
   "metadata": {},
   "outputs": [],
   "source": []
  },
  {
   "cell_type": "code",
   "execution_count": null,
   "id": "19f071f5",
   "metadata": {},
   "outputs": [],
   "source": []
  }
 ],
 "metadata": {
  "kernelspec": {
   "display_name": "Python 3 (ipykernel)",
   "language": "python",
   "name": "python3"
  },
  "language_info": {
   "codemirror_mode": {
    "name": "ipython",
    "version": 3
   },
   "file_extension": ".py",
   "mimetype": "text/x-python",
   "name": "python",
   "nbconvert_exporter": "python",
   "pygments_lexer": "ipython3",
   "version": "3.9.7"
  }
 },
 "nbformat": 4,
 "nbformat_minor": 5
}
